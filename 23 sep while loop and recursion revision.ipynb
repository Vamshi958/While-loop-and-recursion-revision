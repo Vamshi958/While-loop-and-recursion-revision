{
 "cells": [
  {
   "cell_type": "code",
   "execution_count": 1,
   "id": "2a5e1b53-879c-4959-82aa-55486d9c8790",
   "metadata": {},
   "outputs": [],
   "source": [
    "#recursion revision----calling a function again and again like a loop unsless untill exhaust\n",
    "#while loop"
   ]
  },
  {
   "cell_type": "code",
   "execution_count": 2,
   "id": "09f5a412-5bed-405a-9b84-01f717ba66a9",
   "metadata": {},
   "outputs": [],
   "source": [
    "#while loop----if condition true execute---false dont execute anthing"
   ]
  },
  {
   "cell_type": "code",
   "execution_count": null,
   "id": "7e74a6ff-683d-4443-8c3b-7dd6a45dfe7f",
   "metadata": {},
   "outputs": [],
   "source": [
    "while True :\n",
    "    print(\"this is my first while loop\")  #it keep on executing"
   ]
  },
  {
   "cell_type": "code",
   "execution_count": 9,
   "id": "46adca14-83a2-482a-add4-802fdc9a7193",
   "metadata": {},
   "outputs": [
    {
     "name": "stdout",
     "output_type": "stream",
     "text": [
      "10\n",
      "9\n",
      "8\n",
      "7\n",
      "6\n",
      "5\n",
      "4\n",
      "3\n",
      "2\n",
      "1\n"
     ]
    }
   ],
   "source": [
    "a =10   #print no from upperbound to 1\n",
    "while a>=1: #it needa to return true then it will inside body of loop    100>=1 true\n",
    "    print(a)                  #print 100\n",
    "    a=a-1                   #100-1 =99 and now a=99 loop continues\n",
    "                             #at certain point a=1 1>=1 print 1------next a=1-1=0  0>=1 false it will come out loop"
   ]
  },
  {
   "cell_type": "code",
   "execution_count": 16,
   "id": "974d5958-b719-4176-9d88-7d6e5b0e4049",
   "metadata": {},
   "outputs": [
    {
     "name": "stdout",
     "output_type": "stream",
     "text": [
      "15\n"
     ]
    }
   ],
   "source": [
    "#add no from 10 till 1\n",
    "s=0\n",
    "n=1  #start\n",
    "till=5  #end\n",
    "while n<=till:       #1<=5 true \n",
    "    s = s+n           #s=0+1--------1+2+3+4+5=15 keep on incrementing when n=6  6<=5 false\n",
    "    n= n+1            #1=1+1\n",
    "print(s)              #1 next===1"
   ]
  },
  {
   "cell_type": "code",
   "execution_count": 20,
   "id": "f879bac4-2fe6-4ec5-85e0-4bc1fae08b3c",
   "metadata": {},
   "outputs": [
    {
     "name": "stdout",
     "output_type": "stream",
     "text": [
      "120\n"
     ]
    }
   ],
   "source": [
    "#multiply num from one range to another\n",
    "s=1\n",
    "n=1  #start\n",
    "till=5  #end\n",
    "while n<=till:       #1<=5 true \n",
    "    s = s*n           #s=1*1--------1*2*3*4*5=15 keep on incrementing when n=6  6<=5 false\n",
    "    n= n+1            #1=1+1\n",
    "print(s) "
   ]
  },
  {
   "cell_type": "code",
   "execution_count": 24,
   "id": "1b3c93e8-3e86-477b-8ff3-44ff81c65e29",
   "metadata": {},
   "outputs": [
    {
     "name": "stdin",
     "output_type": "stream",
     "text": [
      "enter a num for which you are looking for table 2\n"
     ]
    },
    {
     "name": "stdout",
     "output_type": "stream",
     "text": [
      "2 * 1 = 2\n",
      "2 * 2 = 4\n",
      "2 * 3 = 6\n",
      "2 * 4 = 8\n",
      "2 * 5 = 10\n",
      "2 * 6 = 12\n",
      "2 * 7 = 14\n",
      "2 * 8 = 16\n",
      "2 * 9 = 18\n",
      "2 * 10 = 20\n"
     ]
    }
   ],
   "source": [
    "#tables -------write code to generate tables\n",
    "n=int(input(\"enter a num for which you are looking for table\"))\n",
    "i=1          #starting point 1\n",
    "\n",
    "while i<=10:\n",
    "    product= n*i\n",
    "    print(n,\"*\",i,\"=\",product)\n",
    "    i=i+1"
   ]
  },
  {
   "cell_type": "code",
   "execution_count": 25,
   "id": "91136de7-9f99-4a37-b695-48aea00c7917",
   "metadata": {},
   "outputs": [],
   "source": [
    "#while always checking for condition this is false in for loop"
   ]
  },
  {
   "cell_type": "code",
   "execution_count": 2,
   "id": "9fec4bf5-2c70-4e51-b308-26c7ead75558",
   "metadata": {},
   "outputs": [],
   "source": [
    "import time"
   ]
  },
  {
   "cell_type": "code",
   "execution_count": 4,
   "id": "0f1ad4e5-f783-4156-bd56-4afddaf0ba4c",
   "metadata": {},
   "outputs": [
    {
     "name": "stdout",
     "output_type": "stream",
     "text": [
      "5\n",
      "4\n",
      "3\n",
      "2\n",
      "1\n",
      "brake time is over\n"
     ]
    }
   ],
   "source": [
    "#create counter--timer\n",
    "sec=5\n",
    "while sec > 0:\n",
    "    print(sec)\n",
    "    time.sleep(1)   #sleep 1 sec---waking and doing work telling for program---accessing system time\n",
    "    sec=sec-1\n",
    "print(\"brake time is over\")"
   ]
  },
  {
   "cell_type": "code",
   "execution_count": null,
   "id": "2d62c631-c4c3-431d-ab63-59241be98de2",
   "metadata": {},
   "outputs": [
    {
     "name": "stdout",
     "output_type": "stream",
     "text": [
      "20\n"
     ]
    },
    {
     "name": "stdin",
     "output_type": "stream",
     "text": [
      "enter your choice(1.biscuit, 2.chips, 3.redbull,4.coke) 1\n"
     ]
    },
    {
     "name": "stdout",
     "output_type": "stream",
     "text": [
      "take your biscuit\n",
      "16\n"
     ]
    }
   ],
   "source": [
    "#m/c scan qr code and get groceries----vending machine\n",
    "money_in_hand = 20\n",
    "\n",
    "while money_in_hand >= 5:\n",
    "    print(money_in_hand)\n",
    "    choice = int(input(\"enter your choice(1.biscuit, 2.chips, 3.redbull,4.coke)\"))\n",
    "    if choice == 1:\n",
    "        print(\"take your biscuit\")\n",
    "        money_in_hand = money_in_hand - 4                     #price of biscuit 4\n",
    "    elif choice ==2 :\n",
    "        print(\"take your chips\")\n",
    "        money_in_hand = money_in_hand - 5\n",
    "    elif choice == 3:\n",
    "        money_in_hand = money_in_hand - 10\n",
    "    elif choice == 4:\n",
    "        money_in_hand = money_in_hand - 8\n",
    "    else:\n",
    "        print(\"you have not entered the correct choice\")\n",
    "print(\"you dont have enough balance in your wallet\")"
   ]
  },
  {
   "cell_type": "code",
   "execution_count": 1,
   "id": "053abc38-38c4-4a12-ae58-421ebe9f183c",
   "metadata": {},
   "outputs": [
    {
     "name": "stdout",
     "output_type": "stream",
     "text": [
      "enter s to stop the timer\n"
     ]
    },
    {
     "name": "stdin",
     "output_type": "stream",
     "text": [
      "enter s for stop d\n"
     ]
    },
    {
     "name": "stdout",
     "output_type": "stream",
     "text": [
      "enter s to stop the timer\n"
     ]
    },
    {
     "name": "stdin",
     "output_type": "stream",
     "text": [
      "enter s for stop s\n"
     ]
    },
    {
     "name": "stdout",
     "output_type": "stream",
     "text": [
      "brake time is over,start class\n"
     ]
    }
   ],
   "source": [
    "#create counter--timer--------stop when ever you want\n",
    "import time\n",
    "stop = False\n",
    "while not stop:\n",
    "    print(\"enter s to stop the timer\")\n",
    "    time.sleep(1)   #sleep 1 sec---waking and doing work telling for program---accessing system time\n",
    "    press_stop = input(\"enter s for stop\")\n",
    "    if press_stop.lower() == 's' :\n",
    "        stop = True\n",
    "print(\"brake time is over,start class\")"
   ]
  },
  {
   "cell_type": "code",
   "execution_count": 2,
   "id": "875f1b14-c01f-4825-ad19-016a4bbe3828",
   "metadata": {},
   "outputs": [
    {
     "name": "stdout",
     "output_type": "stream",
     "text": [
      "5\n"
     ]
    },
    {
     "name": "stdin",
     "output_type": "stream",
     "text": [
      "enter anything to stop d\n"
     ]
    },
    {
     "name": "stdout",
     "output_type": "stream",
     "text": [
      "brake time is over\n"
     ]
    }
   ],
   "source": [
    "#create counter--timer\n",
    "import time\n",
    "sec=5\n",
    "while sec > 0:\n",
    "    print(sec)\n",
    "    time.sleep(1)   #sleep 1 sec---waking and doing work telling for program---accessing system time\n",
    "    i = input(\"enter anything to stop\")\n",
    "    if i:\n",
    "        break\n",
    "    sec=sec-1\n",
    "print(\"brake time is over\")"
   ]
  },
  {
   "cell_type": "code",
   "execution_count": 4,
   "id": "75399e64-5469-4623-94a3-9daac8317457",
   "metadata": {},
   "outputs": [
    {
     "ename": "SyntaxError",
     "evalue": "invalid syntax (367493783.py, line 8)",
     "output_type": "error",
     "traceback": [
      "\u001b[0;36m  Cell \u001b[0;32mIn[4], line 8\u001b[0;36m\u001b[0m\n\u001b[0;31m    if password != password_1:\u001b[0m\n\u001b[0m                             ^\u001b[0m\n\u001b[0;31mSyntaxError\u001b[0m\u001b[0;31m:\u001b[0m invalid syntax\n"
     ]
    }
   ],
   "source": [
    "#gmail login---user id ,password-----------wrong password >3 times ---freeze/locked account for 30 min------------>4 times-----bank account locked\n",
    "user_id = input(\"enter user id\")\n",
    "password = input(\"enter password\")\n",
    "password_1 = 123\n",
    "wrong = False\n",
    "while not wrong:\n",
    "    print(\"logged in\")\\\n",
    "    if password != password_1:\n",
    "        print(\"wrong\")\n",
    "    else:\n",
    "        print(\"login fail\")\n",
    "    password1 = password1+1\n",
    "print(\"account locked\")\n",
    "#my code"
   ]
  },
  {
   "cell_type": "code",
   "execution_count": 5,
   "id": "8e3e87ec-86c6-4316-9350-60bcc5b7e8c3",
   "metadata": {},
   "outputs": [
    {
     "name": "stdin",
     "output_type": "stream",
     "text": [
      "Enter user ID:  def\n",
      "Enter password:  123\n"
     ]
    },
    {
     "name": "stdout",
     "output_type": "stream",
     "text": [
      "Logged in\n",
      "Account not locked.\n"
     ]
    }
   ],
   "source": [
    "user_id = input(\"Enter user ID: \")\n",
    "password_1 = \"123\"  # You should use a string for the password, not an integer.\n",
    "max_attempts = 3  # Maximum number of incorrect password attempts before locking.\n",
    "\n",
    "attempts = 0  # Initialize the number of login attempts.\n",
    "\n",
    "while attempts < max_attempts:\n",
    "    password = input(\"Enter password: \")\n",
    "    if password == password_1:\n",
    "        print(\"Logged in\")\n",
    "        break  # Exit the loop when the password is correct.\n",
    "    else:\n",
    "        print(\"Wrong password. Try again.\")\n",
    "        attempts += 1\n",
    "\n",
    "if attempts == max_attempts:\n",
    "    print(\"Too many incorrect login attempts. Your account is locked for 30 minutes.\")\n",
    "    # You can add code here to implement the 30-minute lockout logic.\n",
    "else:\n",
    "    print(\"Account not locked.\")\n"
   ]
  },
  {
   "cell_type": "code",
   "execution_count": 7,
   "id": "0c1ae45b-daf5-4e9c-9853-13f4a481105a",
   "metadata": {},
   "outputs": [
    {
     "name": "stdin",
     "output_type": "stream",
     "text": [
      "enter user_id for account sudhanshu\n",
      "enter your password for respective user id hdhfh\n",
      "enter user_id for account djjdjjd\n",
      "enter your password for respective user id hdhhdh\n",
      "enter user_id for account sudhanshu\n",
      "enter your password for respective user id dhdhhdd\n"
     ]
    },
    {
     "name": "stdout",
     "output_type": "stream",
     "text": [
      "you have attemted max times and your account is locked\n"
     ]
    }
   ],
   "source": [
    "user_id = \"sudhanshu\"\n",
    "password = \"sudhanshu@123\"\n",
    "counter = 1\n",
    "user_id_check = False\n",
    "while counter <=3:\n",
    "    userid = input(\"enter user_id for account\")\n",
    "    if userid == user_id:\n",
    "        user_id_check = True\n",
    "    if user_id_check == True:\n",
    "        pswd = input(\"enter your password for respective user id\")\n",
    "        if pswd==password:\n",
    "            print(\"you have logged in successfully\")\n",
    "            break\n",
    "        counter = counter + 1\n",
    "print(\"you have attemted max times and your account is locked\")\n",
    "    \n",
    "        \n",
    "        "
   ]
  },
  {
   "cell_type": "markdown",
   "id": "b553ff92-17d4-4695-9f79-70b7c986e064",
   "metadata": {},
   "source": [
    "### "
   ]
  },
  {
   "cell_type": "code",
   "execution_count": 1,
   "id": "083eb937-92ee-4a8f-90d1-2ccbcf7a021b",
   "metadata": {},
   "outputs": [
    {
     "name": "stdin",
     "output_type": "stream",
     "text": [
      "enter user_id for account hfhf\n"
     ]
    },
    {
     "name": "stdout",
     "output_type": "stream",
     "text": [
      "your user id incorrect try again\n"
     ]
    }
   ],
   "source": [
    "user_id = \"sudhanshu\"\n",
    "password = \"sudhanshu@123\"\n",
    "counter = 1\n",
    "user_id_check = False\n",
    "userid = input(\"enter user_id for account\")\n",
    "while counter <=3:\n",
    "    if userid == user_id:\n",
    "        user_id_check = True\n",
    "    else:\n",
    "        print(\"your user id incorrect try again\")\n",
    "        break\n",
    "    if user_id_check == True:\n",
    "        pswd = input(\"enter your password for respective user id\")\n",
    "        if pswd==password:\n",
    "            print(\"you have logged in successfully\")\n",
    "            break\n",
    "        counter = counter + 1\n",
    "if counter>3:\n",
    "    print(\"you have attemted max times and your account is locked\")\n",
    "    \n",
    "        \n",
    "        "
   ]
  },
  {
   "cell_type": "code",
   "execution_count": 2,
   "id": "88c5e88c-62d9-478e-b30a-6bba5cdfd2f8",
   "metadata": {},
   "outputs": [
    {
     "name": "stdin",
     "output_type": "stream",
     "text": [
      "enter user_id for account sudhanshu\n",
      "enter your password for respective user id dhhd\n",
      "enter your password for respective user id dhdd\n",
      "enter your password for respective user id ndnnd\n"
     ]
    },
    {
     "name": "stdout",
     "output_type": "stream",
     "text": [
      "you have attemted max times and your account is locked\n"
     ]
    }
   ],
   "source": [
    "user_id = \"sudhanshu\"\n",
    "password = \"sudhanshu@123\"\n",
    "counter = 1\n",
    "user_id_check = False\n",
    "userid = input(\"enter user_id for account\")\n",
    "while counter <=3:\n",
    "    if userid == user_id:\n",
    "        user_id_check = True\n",
    "    if user_id_check == True:\n",
    "        pswd = input(\"enter your password for respective user id\")\n",
    "        if pswd==password:\n",
    "            print(\"you have logged in successfully\")\n",
    "            break\n",
    "        counter = counter + 1\n",
    "if counter>3:\n",
    "    print(\"you have attemted max times and your account is locked\")\n",
    "    \n",
    "        \n",
    "        "
   ]
  },
  {
   "cell_type": "code",
   "execution_count": 7,
   "id": "e0cbea34-1556-4915-ab67-6ca7017fa453",
   "metadata": {},
   "outputs": [
    {
     "name": "stdin",
     "output_type": "stream",
     "text": [
      "enter your todo task listen class\n",
      "enter no id you want to add in todo list or enetr yes if you dont want to add no\n",
      "enter your todo task brush\n",
      "enter no id you want to add in todo list or enetr yes if you dont want to add yes\n"
     ]
    },
    {
     "name": "stdout",
     "output_type": "stream",
     "text": [
      "my todo list is ['listen class', 'brush']\n"
     ]
    }
   ],
   "source": [
    "#write a program to enter something To do List & when say no ---break the loop\n",
    "todo_list = []\n",
    "end_of_todo = 'no'\n",
    "\n",
    "while end_of_todo != 'yes':\n",
    "    todo_item = input(\"enter your todo task\")\n",
    "    add_todo = todo_list.append(todo_item)\n",
    "    end_of_todo = input(\"enter no id you want to add in todo list or enetr yes if you dont want to add\")\n",
    "print(\"my todo list is\",todo_list)\n",
    "#you can add/remove something into to do list"
   ]
  },
  {
   "cell_type": "code",
   "execution_count": 8,
   "id": "c94cd802-7779-41b3-b2ab-d433b5a2a923",
   "metadata": {},
   "outputs": [],
   "source": [
    "# RECURSIVE ----it is not effective everytime bcz of time and space complexity---depends on logic/case to case"
   ]
  },
  {
   "cell_type": "code",
   "execution_count": 27,
   "id": "3ab38f84-81ec-4430-b30d-0a11e86539ee",
   "metadata": {},
   "outputs": [],
   "source": [
    "#factorial---5*4*3*2*1 = 120\n",
    "def fact(n):\n",
    "    if n == 0:            #base condition------\n",
    "        return 1\n",
    "    else:\n",
    "        return n * fact(n-1)   #calling fun within a function--------n=5------5*fact(4)==5*4*fact(3)===same loop executes till base condition true\n",
    "    \n",
    "    "
   ]
  },
  {
   "cell_type": "code",
   "execution_count": 28,
   "id": "6b6260e3-6aee-443f-938b-894282696966",
   "metadata": {},
   "outputs": [
    {
     "data": {
      "text/plain": [
       "120"
      ]
     },
     "execution_count": 28,
     "metadata": {},
     "output_type": "execute_result"
    }
   ],
   "source": [
    "fact(5)\n"
   ]
  },
  {
   "cell_type": "code",
   "execution_count": 29,
   "id": "7d3de4c1-ef24-4d3f-96da-a90b2e27cabd",
   "metadata": {},
   "outputs": [
    {
     "data": {
      "text/plain": [
       "1"
      ]
     },
     "execution_count": 29,
     "metadata": {},
     "output_type": "execute_result"
    }
   ],
   "source": [
    "fact(0)"
   ]
  },
  {
   "cell_type": "code",
   "execution_count": 30,
   "id": "24ee8479-6d0f-46ca-a670-b9333a5fa88d",
   "metadata": {},
   "outputs": [
    {
     "data": {
      "text/plain": [
       "6"
      ]
     },
     "execution_count": 30,
     "metadata": {},
     "output_type": "execute_result"
    }
   ],
   "source": [
    "fact(3)"
   ]
  },
  {
   "cell_type": "code",
   "execution_count": 33,
   "id": "4bba2b2f-82f3-4d0d-acab-c17a34b73eba",
   "metadata": {},
   "outputs": [
    {
     "data": {
      "text/plain": [
       "788657867364790503552363213932185062295135977687173263294742533244359449963403342920304284011984623904177212138919638830257642790242637105061926624952829931113462857270763317237396988943922445621451664240254033291864131227428294853277524242407573903240321257405579568660226031904170324062351700858796178922222789623703897374720000000000000000000000000000000000000000000000000"
      ]
     },
     "execution_count": 33,
     "metadata": {},
     "output_type": "execute_result"
    }
   ],
   "source": [
    "# fact (1000)---it will take some time ----its not effective\n",
    "fact(200) #computation is heavy--time complexity is very high--cpu spike is very high ---if your processor low"
   ]
  },
  {
   "cell_type": "code",
   "execution_count": 50,
   "id": "dbe4a8fe-5aa8-4951-8fca-a6497d56d7b9",
   "metadata": {},
   "outputs": [],
   "source": [
    "#fibinacci--summation of previous 2 numbers-----1 1 2 3 5 8 13 21...\n",
    "\n",
    "def fib(n):\n",
    "\n",
    "    if n <= 1:            #base condition is amndatory------\n",
    "        return n\n",
    "    else:\n",
    "        return fib(n-2) + fib(n-1)  #summation of previous 2number and previous of previous numbers i.e n-2 +n-1                            f(3)=f(1)+f(2)"
   ]
  },
  {
   "cell_type": "code",
   "execution_count": 51,
   "id": "ee76a34a-1d66-46bc-ae3b-4f240e47140b",
   "metadata": {},
   "outputs": [
    {
     "data": {
      "text/plain": [
       "8"
      ]
     },
     "execution_count": 51,
     "metadata": {},
     "output_type": "execute_result"
    }
   ],
   "source": [
    "fib(6)"
   ]
  },
  {
   "cell_type": "code",
   "execution_count": 72,
   "id": "795ef943-ce0a-49b8-9665-d2b60f6e8118",
   "metadata": {},
   "outputs": [],
   "source": [
    "# enter 22 --input,suppose cal digits in a number ---22 = 2+2=4\n",
    "def sum_digit(n):           #using while loop\n",
    "    sum = 0\n",
    "    for digit in str(n):\n",
    "        sum +=int(digit)\n",
    "    return sum"
   ]
  },
  {
   "cell_type": "code",
   "execution_count": 71,
   "id": "291002e1-f25e-441a-9d9c-21ca8a8df3b5",
   "metadata": {},
   "outputs": [
    {
     "data": {
      "text/plain": [
       "6"
      ]
     },
     "execution_count": 71,
     "metadata": {},
     "output_type": "execute_result"
    }
   ],
   "source": [
    "sum_digit(33)"
   ]
  },
  {
   "cell_type": "code",
   "execution_count": 88,
   "id": "3dabaf72-e129-4949-95e8-ba01365eacfb",
   "metadata": {},
   "outputs": [
    {
     "data": {
      "text/plain": [
       "6"
      ]
     },
     "execution_count": 88,
     "metadata": {},
     "output_type": "execute_result"
    }
   ],
   "source": [
    "def sum_of_digits(n):  #using for loop\n",
    "    sum=0\n",
    "    while n!=0: \n",
    "        d = n%10          #123%10=3---it try to take last number\n",
    "        sum = sum+d          #sum=3\n",
    "        n=n//10              #n=123//10=12 again loop starts---try to return 2 numbers eliminate last no\n",
    "    return sum               #return 3+2+1\n",
    "sum_of_digits(123)"
   ]
  },
  {
   "cell_type": "code",
   "execution_count": 63,
   "id": "ccf74536-6290-43c6-8abd-329a1039b339",
   "metadata": {},
   "outputs": [
    {
     "data": {
      "text/plain": [
       "12"
      ]
     },
     "execution_count": 63,
     "metadata": {},
     "output_type": "execute_result"
    }
   ],
   "source": [
    "123//10\n"
   ]
  },
  {
   "cell_type": "code",
   "execution_count": 65,
   "id": "b8fe2638-0f7d-48ca-ba53-b4b5b86d33e5",
   "metadata": {},
   "outputs": [
    {
     "data": {
      "text/plain": [
       "1"
      ]
     },
     "execution_count": 65,
     "metadata": {},
     "output_type": "execute_result"
    }
   ],
   "source": [
    "12//10"
   ]
  },
  {
   "cell_type": "code",
   "execution_count": 67,
   "id": "6b158368-edf8-493a-8644-a5cc7eab9143",
   "metadata": {},
   "outputs": [
    {
     "data": {
      "text/plain": [
       "1"
      ]
     },
     "execution_count": 67,
     "metadata": {},
     "output_type": "execute_result"
    }
   ],
   "source": [
    "1%10"
   ]
  },
  {
   "cell_type": "code",
   "execution_count": 68,
   "id": "0bdb17f7-3944-4820-96e7-8e2b4566d06f",
   "metadata": {},
   "outputs": [
    {
     "data": {
      "text/plain": [
       "3"
      ]
     },
     "execution_count": 68,
     "metadata": {},
     "output_type": "execute_result"
    }
   ],
   "source": [
    "123%10"
   ]
  },
  {
   "cell_type": "code",
   "execution_count": 69,
   "id": "4e425eb9-7e14-4eae-9b0b-87e6cbb25484",
   "metadata": {},
   "outputs": [
    {
     "data": {
      "text/plain": [
       "2"
      ]
     },
     "execution_count": 69,
     "metadata": {},
     "output_type": "execute_result"
    }
   ],
   "source": [
    "12%10"
   ]
  },
  {
   "cell_type": "code",
   "execution_count": 84,
   "id": "151bd11f-cba3-4659-bcd5-df1fff6abd2b",
   "metadata": {},
   "outputs": [],
   "source": [
    "#using recursion\n",
    "def sum_digits(n):\n",
    "    if n<=9:\n",
    "        return n\n",
    "    else:\n",
    "        return n%10 + sum_digits(n//10)"
   ]
  },
  {
   "cell_type": "code",
   "execution_count": 86,
   "id": "e23a94df-8016-4047-80ea-7e101f44efa5",
   "metadata": {},
   "outputs": [
    {
     "data": {
      "text/plain": [
       "15"
      ]
     },
     "execution_count": 86,
     "metadata": {},
     "output_type": "execute_result"
    }
   ],
   "source": [
    "sum_digits(12345)"
   ]
  },
  {
   "cell_type": "code",
   "execution_count": 87,
   "id": "c4892e75-51fc-47dc-a04c-886b9c554ad3",
   "metadata": {},
   "outputs": [],
   "source": [
    "l = [3,4,5,6,76]"
   ]
  },
  {
   "cell_type": "code",
   "execution_count": 89,
   "id": "f6d42c43-32c4-4afc-b567-ed2ac478fbf4",
   "metadata": {},
   "outputs": [
    {
     "data": {
      "text/plain": [
       "76"
      ]
     },
     "execution_count": 89,
     "metadata": {},
     "output_type": "execute_result"
    }
   ],
   "source": [
    "#try to find out max no out of list\n",
    "max(l)"
   ]
  },
  {
   "cell_type": "code",
   "execution_count": 90,
   "id": "f1537fce-1edd-45db-aef8-310d92b6218b",
   "metadata": {},
   "outputs": [
    {
     "data": {
      "text/plain": [
       "3"
      ]
     },
     "execution_count": 90,
     "metadata": {},
     "output_type": "execute_result"
    }
   ],
   "source": [
    "min(l)"
   ]
  },
  {
   "cell_type": "code",
   "execution_count": 96,
   "id": "16930aca-7a89-45e5-9f30-700b897f8fd4",
   "metadata": {},
   "outputs": [],
   "source": [
    "#using recursion\n",
    "def max_find(l): #we can do by using for or while loop\n",
    "    if len(l) == 1:                        #if list have 1 element retun that\n",
    "        return l[0]\n",
    "    else:                       #if l[0].l[1] return l[0]\n",
    "        return max(l[0],max_find(l[1:]))        #max for number comparision  l[0]=4 max_find(rest of list)----max(4,5,max(l)) return (4,5,6,max(l)) return (4,5,6,90)---return 90 there are no elements come out of loop \n",
    "    "
   ]
  },
  {
   "cell_type": "code",
   "execution_count": 95,
   "id": "af0aad8c-9595-4001-82b1-16c01fd93225",
   "metadata": {},
   "outputs": [
    {
     "data": {
      "text/plain": [
       "90"
      ]
     },
     "execution_count": 95,
     "metadata": {},
     "output_type": "execute_result"
    }
   ],
   "source": [
    "max_find([4,5,6,90])\n",
    "         "
   ]
  },
  {
   "cell_type": "code",
   "execution_count": 97,
   "id": "d5a84d5d-b194-4b28-a664-73c81c07c781",
   "metadata": {},
   "outputs": [
    {
     "data": {
      "text/plain": [
       "3125"
      ]
     },
     "execution_count": 97,
     "metadata": {},
     "output_type": "execute_result"
    }
   ],
   "source": [
    "# power of number \n",
    "5**5"
   ]
  },
  {
   "cell_type": "code",
   "execution_count": 98,
   "id": "216d9eb6-1a2c-406e-825f-fb08382f806a",
   "metadata": {},
   "outputs": [
    {
     "data": {
      "text/plain": [
       "3125"
      ]
     },
     "execution_count": 98,
     "metadata": {},
     "output_type": "execute_result"
    }
   ],
   "source": [
    "pow(5,5)"
   ]
  },
  {
   "cell_type": "code",
   "execution_count": 102,
   "id": "c7934890-2b4c-4fc7-ac5d-f34a8bdbd859",
   "metadata": {},
   "outputs": [],
   "source": [
    "#using recursion\n",
    "def power(n,k):\n",
    "    if k == 0:\n",
    "        return 1\n",
    "    else:                          #5**3= 5*5*5 / 5*5**3-1 /5*5*5**1\n",
    "        return n*power(n,k-1)             #2*powe(2,3)---2*2*p(2,2)---2*2*2*p(2,1)----2*2*2*2*p(2,0)-----2*2*2*2*1=16\n",
    "    "
   ]
  },
  {
   "cell_type": "code",
   "execution_count": 104,
   "id": "0ffd5148-fe2b-47af-aed2-f2ea11e1116e",
   "metadata": {},
   "outputs": [
    {
     "data": {
      "text/plain": [
       "16"
      ]
     },
     "execution_count": 104,
     "metadata": {},
     "output_type": "execute_result"
    }
   ],
   "source": [
    "power(2,4)"
   ]
  },
  {
   "cell_type": "code",
   "execution_count": null,
   "id": "26a9a6e8-ef9c-4e71-bd9f-96ba2d9ea934",
   "metadata": {},
   "outputs": [],
   "source": [
    "#tomorrow-------------------recursion 5 more problems--decorstor ---generator----iterator-----zip---enumeration----exception handling\n",
    "next week---------oops"
   ]
  }
 ],
 "metadata": {
  "kernelspec": {
   "display_name": "Python 3 (ipykernel)",
   "language": "python",
   "name": "python3"
  },
  "language_info": {
   "codemirror_mode": {
    "name": "ipython",
    "version": 3
   },
   "file_extension": ".py",
   "mimetype": "text/x-python",
   "name": "python",
   "nbconvert_exporter": "python",
   "pygments_lexer": "ipython3",
   "version": "3.10.8"
  }
 },
 "nbformat": 4,
 "nbformat_minor": 5
}
